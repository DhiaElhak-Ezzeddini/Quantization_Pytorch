{
 "cells": [
  {
   "cell_type": "code",
   "execution_count": 3,
   "id": "b7485823",
   "metadata": {},
   "outputs": [],
   "source": [
    "import torch\n",
    "import torchvision.datasets as datasets\n",
    "import torchvision.transforms as transforms\n",
    "import torch.nn as nn\n",
    "import matplotlib.pyplot as plt\n",
    "from tqdm import tqdm\n",
    "from pathlib import Path\n",
    "import os "
   ]
  },
  {
   "cell_type": "code",
   "execution_count": null,
   "id": "0442e16e",
   "metadata": {},
   "outputs": [],
   "source": [
    "_=torch.manual_seed(0) ## make torch deterministic "
   ]
  },
  {
   "cell_type": "code",
   "execution_count": 5,
   "id": "2f83f188",
   "metadata": {},
   "outputs": [
    {
     "name": "stdout",
     "output_type": "stream",
     "text": [
      "Downloading http://yann.lecun.com/exdb/mnist/train-images-idx3-ubyte.gz\n",
      "Failed to download (trying next):\n",
      "HTTP Error 404: Not Found\n",
      "\n",
      "Downloading https://ossci-datasets.s3.amazonaws.com/mnist/train-images-idx3-ubyte.gz\n",
      "Downloading https://ossci-datasets.s3.amazonaws.com/mnist/train-images-idx3-ubyte.gz to /data\\MNIST\\raw\\train-images-idx3-ubyte.gz\n"
     ]
    },
    {
     "name": "stderr",
     "output_type": "stream",
     "text": [
      "100%|██████████| 9.91M/9.91M [00:14<00:00, 688kB/s] \n"
     ]
    },
    {
     "name": "stdout",
     "output_type": "stream",
     "text": [
      "Extracting /data\\MNIST\\raw\\train-images-idx3-ubyte.gz to /data\\MNIST\\raw\n",
      "\n",
      "Downloading http://yann.lecun.com/exdb/mnist/train-labels-idx1-ubyte.gz\n",
      "Failed to download (trying next):\n",
      "HTTP Error 404: Not Found\n",
      "\n",
      "Downloading https://ossci-datasets.s3.amazonaws.com/mnist/train-labels-idx1-ubyte.gz\n",
      "Downloading https://ossci-datasets.s3.amazonaws.com/mnist/train-labels-idx1-ubyte.gz to /data\\MNIST\\raw\\train-labels-idx1-ubyte.gz\n"
     ]
    },
    {
     "name": "stderr",
     "output_type": "stream",
     "text": [
      "100%|██████████| 28.9k/28.9k [00:00<00:00, 202kB/s]\n"
     ]
    },
    {
     "name": "stdout",
     "output_type": "stream",
     "text": [
      "Extracting /data\\MNIST\\raw\\train-labels-idx1-ubyte.gz to /data\\MNIST\\raw\n",
      "\n",
      "Downloading http://yann.lecun.com/exdb/mnist/t10k-images-idx3-ubyte.gz\n",
      "Failed to download (trying next):\n",
      "HTTP Error 404: Not Found\n",
      "\n",
      "Downloading https://ossci-datasets.s3.amazonaws.com/mnist/t10k-images-idx3-ubyte.gz\n",
      "Downloading https://ossci-datasets.s3.amazonaws.com/mnist/t10k-images-idx3-ubyte.gz to /data\\MNIST\\raw\\t10k-images-idx3-ubyte.gz\n"
     ]
    },
    {
     "name": "stderr",
     "output_type": "stream",
     "text": [
      "100%|██████████| 1.65M/1.65M [00:02<00:00, 690kB/s]\n"
     ]
    },
    {
     "name": "stdout",
     "output_type": "stream",
     "text": [
      "Extracting /data\\MNIST\\raw\\t10k-images-idx3-ubyte.gz to /data\\MNIST\\raw\n",
      "\n",
      "Downloading http://yann.lecun.com/exdb/mnist/t10k-labels-idx1-ubyte.gz\n",
      "Failed to download (trying next):\n",
      "HTTP Error 404: Not Found\n",
      "\n",
      "Downloading https://ossci-datasets.s3.amazonaws.com/mnist/t10k-labels-idx1-ubyte.gz\n",
      "Downloading https://ossci-datasets.s3.amazonaws.com/mnist/t10k-labels-idx1-ubyte.gz to /data\\MNIST\\raw\\t10k-labels-idx1-ubyte.gz\n"
     ]
    },
    {
     "name": "stderr",
     "output_type": "stream",
     "text": [
      "100%|██████████| 4.54k/4.54k [00:00<?, ?B/s]"
     ]
    },
    {
     "name": "stdout",
     "output_type": "stream",
     "text": [
      "Extracting /data\\MNIST\\raw\\t10k-labels-idx1-ubyte.gz to /data\\MNIST\\raw\n",
      "\n"
     ]
    },
    {
     "name": "stderr",
     "output_type": "stream",
     "text": [
      "\n"
     ]
    }
   ],
   "source": [
    "transform = transforms.Compose([transforms.ToTensor(),transforms.Normalize((0.1307,),(0.3081,))])\n",
    "## Loading MNIST dataset\n",
    "mnist_train = datasets.MNIST(root='/data',train=True,download=True,transform=transform)\n",
    "mnist_test = datasets.MNIST(root='/data',train=False,download=True,transform=transform)\n",
    "\n",
    "train_loader = torch.utils.data.DataLoader(mnist_train,batch_size=10,shuffle=True)\n",
    "test_loader = torch.utils.data.DataLoader(mnist_test,batch_size=10,shuffle=True)"
   ]
  },
  {
   "cell_type": "code",
   "execution_count": 7,
   "id": "3157ecf8",
   "metadata": {},
   "outputs": [],
   "source": [
    "device = \"cuda\"\n",
    "class ClassNet(nn.Module) : \n",
    "    def __init__(self,  hidden_size_1=100,hidden_size_2=100):\n",
    "        super().__init__()\n",
    "        self.Linear1 = nn.Linear(28*28,hidden_size_1)\n",
    "        self.Linear2 = nn.Linear(hidden_size_1,hidden_size_2)\n",
    "        self.Linear3 = nn.Linear(hidden_size_2,10)\n",
    "        self.relu = nn.ReLU()\n",
    "    def forward(self,x):\n",
    "        x = x.view(-1,28*28)\n",
    "        x = self.relu(self.Linear1(x))\n",
    "        x = self.relu(self.Linear2(x))\n",
    "        x = self.Linear3(x)\n",
    "        \n",
    "        return x"
   ]
  },
  {
   "cell_type": "code",
   "execution_count": 8,
   "id": "be645221",
   "metadata": {},
   "outputs": [],
   "source": [
    "net = ClassNet().to(device)"
   ]
  },
  {
   "cell_type": "code",
   "execution_count": 9,
   "id": "e2cf5534",
   "metadata": {},
   "outputs": [
    {
     "name": "stderr",
     "output_type": "stream",
     "text": [
      "Epoch 1: 100%|██████████| 6000/6000 [00:46<00:00, 128.19it/s, loss=tensor(0.2231, device='cuda:0', grad_fn=<DivBackward0>)]\n",
      "Epoch 2: 100%|██████████| 6000/6000 [00:42<00:00, 141.77it/s, loss=tensor(0.1129, device='cuda:0', grad_fn=<DivBackward0>)]\n"
     ]
    }
   ],
   "source": [
    "def train(train_loader,model,epochs,total_iteration_limit=None) : \n",
    "    loss_fn = nn.CrossEntropyLoss()\n",
    "    optimizer = torch.optim.Adam(model.parameters(),lr=0.001)\n",
    "    total_iterations = 0 \n",
    "    \n",
    "    for epoch in range(epochs) :\n",
    "        model.train()\n",
    "        loss_sum = 0\n",
    "        num_iterations = 0\n",
    "        data_iterator = tqdm(train_loader,desc=f\"Epoch {epoch+1}\")\n",
    "        if  total_iteration_limit is not None:\n",
    "            data_iterator.total = total_iteration_limit\n",
    "        for data in data_iterator : \n",
    "            num_iterations += 1 \n",
    "            total_iterations += 1\n",
    "            x,y=data\n",
    "            x = x.to(device)\n",
    "            y = y.to(device)\n",
    "            optimizer.zero_grad()\n",
    "            out = model(x.view(-1,28*28))\n",
    "            loss = loss_fn(out,y)\n",
    "            loss_sum += loss\n",
    "            avg_loss = loss_sum / num_iterations\n",
    "            data_iterator.set_postfix(loss=avg_loss)\n",
    "            loss.backward()\n",
    "            optimizer.step()\n",
    "            if total_iteration_limit is not None and total_iterations >= total_iteration_limit:\n",
    "                return\n",
    "\n",
    "\n",
    "def print_size_model(model):\n",
    "    torch.save(model.state_dict(),\"temp_delme.p\")\n",
    "    print(f\"size (KB) :\" , os.path.getsize(\"temp_delme.p\")/1e3)\n",
    "    os.remove(\"temp_delme.p\")\n",
    "    \n",
    "MODEL_FILE_NAME = 'classnet.pt'\n",
    "if Path(MODEL_FILE_NAME).exists():\n",
    "    net.load_state_dict(torch.load(MODEL_FILE_NAME))\n",
    "    print(f\"Model Loaded !\")\n",
    "else : \n",
    "    train(train_loader,net,epochs=2)\n",
    "    torch.save(net.state_dict(),MODEL_FILE_NAME)"
   ]
  },
  {
   "cell_type": "code",
   "execution_count": 10,
   "id": "63be8c13",
   "metadata": {},
   "outputs": [],
   "source": [
    "def test(model,total_iterations=None):\n",
    "    correct=0\n",
    "    total=0\n",
    "    iterations=0\n",
    "    model.eval()\n",
    "    with torch.no_grad():\n",
    "        for data in tqdm(test_loader,desc=f\"Testing\") : \n",
    "            x,y=data\n",
    "            x = x.to(device)\n",
    "            y = y.to(device)\n",
    "            out = model(x.view(-1,28*28))\n",
    "            for idx,i in enumerate(out):\n",
    "                if torch.argmax(i) == y[idx]:\n",
    "                    correct+=1\n",
    "                total+=1\n",
    "            iterations+=1\n",
    "            if total_iterations is not None and iterations>= total_iterations : \n",
    "                break\n",
    "    print(f\"Accuracy : {round(correct/total,3)}\")\n",
    "        "
   ]
  },
  {
   "cell_type": "code",
   "execution_count": 11,
   "id": "0c3bd52e",
   "metadata": {},
   "outputs": [
    {
     "name": "stderr",
     "output_type": "stream",
     "text": [
      "Testing: 100%|██████████| 1000/1000 [00:05<00:00, 177.71it/s]"
     ]
    },
    {
     "name": "stdout",
     "output_type": "stream",
     "text": [
      "Accuracy : 0.963\n"
     ]
    },
    {
     "name": "stderr",
     "output_type": "stream",
     "text": [
      "\n"
     ]
    }
   ],
   "source": [
    "test(net)"
   ]
  },
  {
   "cell_type": "code",
   "execution_count": 13,
   "id": "d12acde7",
   "metadata": {},
   "outputs": [
    {
     "name": "stdout",
     "output_type": "stream",
     "text": [
      "Weights before quantization\n",
      "Parameter containing:\n",
      "tensor([[-0.0029,  0.0165, -0.0321,  ...,  0.0193,  0.0011, -0.0006],\n",
      "        [ 0.0196,  0.0244,  0.0290,  ...,  0.0191,  0.0334,  0.0095],\n",
      "        [ 0.0075,  0.0425, -0.0056,  ...,  0.0073,  0.0288,  0.0357],\n",
      "        ...,\n",
      "        [ 0.0838,  0.0876,  0.0529,  ...,  0.0476,  0.0668,  0.0299],\n",
      "        [ 0.0105,  0.0187,  0.0507,  ...,  0.0310,  0.0310,  0.0305],\n",
      "        [ 0.0149,  0.0096, -0.0046,  ...,  0.0318, -0.0175,  0.0027]],\n",
      "       device='cuda:0', requires_grad=True)\n",
      "torch.float32\n"
     ]
    }
   ],
   "source": [
    "print(f\"Weights before quantization\")\n",
    "print(net.Linear1.weight)\n",
    "print(net.Linear1.weight.dtype) ## torch.float32"
   ]
  },
  {
   "cell_type": "code",
   "execution_count": 14,
   "id": "eea9f56d",
   "metadata": {},
   "outputs": [
    {
     "name": "stdout",
     "output_type": "stream",
     "text": [
      "Size of the model before quantization\n",
      "size (KB) : 361.062\n"
     ]
    }
   ],
   "source": [
    "print(f\"Size of the model before quantization\")\n",
    "print_size_model(net)"
   ]
  },
  {
   "cell_type": "code",
   "execution_count": 15,
   "id": "b17094ce",
   "metadata": {},
   "outputs": [],
   "source": [
    "class ClassNetQuantized(nn.Module):\n",
    "    def __init__(self,  hidden_size_1=100,hidden_size_2=100):\n",
    "        super(ClassNetQuantized,self).__init__()\n",
    "        self.quant = torch.quantization.QuantStub()\n",
    "        self.Linear1 = nn.Linear(28*28,hidden_size_1)\n",
    "        self.Linear2 = nn.Linear(hidden_size_1,hidden_size_2)\n",
    "        self.Linear3 = nn.Linear(hidden_size_2,10)\n",
    "        self.relu = nn.ReLU()\n",
    "        self.dequant = torch.quantization.DeQuantStub()\n",
    "    def forward(self,x):\n",
    "        x = x.view(-1,28*28)\n",
    "        x = self.quant(x)\n",
    "        x = self.relu(self.Linear1(x))\n",
    "        x = self.relu(self.Linear2(x))\n",
    "        x = self.Linear3(x)\n",
    "        x = self.dequant(x)\n",
    "        return x"
   ]
  },
  {
   "cell_type": "code",
   "execution_count": 36,
   "id": "48661d35",
   "metadata": {},
   "outputs": [],
   "source": [
    "net_quantized = ClassNetQuantized().to(device)"
   ]
  },
  {
   "cell_type": "code",
   "execution_count": 37,
   "id": "0335479d",
   "metadata": {},
   "outputs": [
    {
     "data": {
      "text/plain": [
       "ClassNetQuantized(\n",
       "  (quant): QuantStub(\n",
       "    (activation_post_process): MinMaxObserver(min_val=inf, max_val=-inf)\n",
       "  )\n",
       "  (Linear1): Linear(\n",
       "    in_features=784, out_features=100, bias=True\n",
       "    (activation_post_process): MinMaxObserver(min_val=inf, max_val=-inf)\n",
       "  )\n",
       "  (Linear2): Linear(\n",
       "    in_features=100, out_features=100, bias=True\n",
       "    (activation_post_process): MinMaxObserver(min_val=inf, max_val=-inf)\n",
       "  )\n",
       "  (Linear3): Linear(\n",
       "    in_features=100, out_features=10, bias=True\n",
       "    (activation_post_process): MinMaxObserver(min_val=inf, max_val=-inf)\n",
       "  )\n",
       "  (relu): ReLU()\n",
       "  (dequant): DeQuantStub()\n",
       ")"
      ]
     },
     "execution_count": 37,
     "metadata": {},
     "output_type": "execute_result"
    }
   ],
   "source": [
    "net_quantized.load_state_dict(net.state_dict())\n",
    "net_quantized.eval()\n",
    "net_quantized.qconfig = torch.ao.quantization.default_qconfig\n",
    "net_quantized = torch.ao.quantization.prepare(net_quantized)\n",
    "net_quantized"
   ]
  },
  {
   "cell_type": "code",
   "execution_count": 20,
   "id": "f4d2c020",
   "metadata": {},
   "outputs": [
    {
     "name": "stdout",
     "output_type": "stream",
     "text": [
      "Statistics gathered by the observers after testing the model\n"
     ]
    },
    {
     "data": {
      "text/plain": [
       "ClassNetQuantized(\n",
       "  (quant): QuantStub(\n",
       "    (activation_post_process): MinMaxObserver(min_val=-0.4242129623889923, max_val=2.821486711502075)\n",
       "  )\n",
       "  (Linear1): Linear(\n",
       "    in_features=784, out_features=100, bias=True\n",
       "    (activation_post_process): MinMaxObserver(min_val=-65.63235473632812, max_val=35.30819320678711)\n",
       "  )\n",
       "  (Linear2): Linear(\n",
       "    in_features=100, out_features=100, bias=True\n",
       "    (activation_post_process): MinMaxObserver(min_val=-38.02914810180664, max_val=34.694541931152344)\n",
       "  )\n",
       "  (Linear3): Linear(\n",
       "    in_features=100, out_features=10, bias=True\n",
       "    (activation_post_process): MinMaxObserver(min_val=-40.19949722290039, max_val=24.341419219970703)\n",
       "  )\n",
       "  (relu): ReLU()\n",
       "  (dequant): DeQuantStub()\n",
       ")"
      ]
     },
     "execution_count": 20,
     "metadata": {},
     "output_type": "execute_result"
    }
   ],
   "source": [
    "print(f\"Statistics gathered by the observers after testing the model\")\n",
    "net_quantized"
   ]
  },
  {
   "cell_type": "code",
   "execution_count": 21,
   "id": "e65afda6",
   "metadata": {},
   "outputs": [],
   "source": [
    "### Quantize the model using the collected statistics\n",
    "\n",
    "net_quantized = torch.ao.quantization.convert(net_quantized)"
   ]
  },
  {
   "cell_type": "code",
   "execution_count": 22,
   "id": "966e4f40",
   "metadata": {},
   "outputs": [
    {
     "name": "stdout",
     "output_type": "stream",
     "text": [
      "Statistics of the various layers after quantization\n"
     ]
    },
    {
     "data": {
      "text/plain": [
       "ClassNetQuantized(\n",
       "  (quant): Quantize(scale=tensor([0.0256], device='cuda:0'), zero_point=tensor([17], device='cuda:0'), dtype=torch.quint8)\n",
       "  (Linear1): QuantizedLinear(in_features=784, out_features=100, scale=0.794807493686676, zero_point=83, qscheme=torch.per_tensor_affine)\n",
       "  (Linear2): QuantizedLinear(in_features=100, out_features=100, scale=0.5726274847984314, zero_point=66, qscheme=torch.per_tensor_affine)\n",
       "  (Linear3): QuantizedLinear(in_features=100, out_features=10, scale=0.5081961750984192, zero_point=79, qscheme=torch.per_tensor_affine)\n",
       "  (relu): ReLU()\n",
       "  (dequant): DeQuantize()\n",
       ")"
      ]
     },
     "execution_count": 22,
     "metadata": {},
     "output_type": "execute_result"
    }
   ],
   "source": [
    "print(f\"Statistics of the various layers after quantization\")\n",
    "net_quantized"
   ]
  },
  {
   "cell_type": "code",
   "execution_count": 26,
   "id": "282b673b",
   "metadata": {},
   "outputs": [
    {
     "name": "stdout",
     "output_type": "stream",
     "text": [
      "first linear layer\n",
      "tensor([[ 0,  3, -5,  ...,  3,  0,  0],\n",
      "        [ 3,  4,  5,  ...,  3,  5,  1],\n",
      "        [ 1,  7, -1,  ...,  1,  5,  6],\n",
      "        ...,\n",
      "        [13, 14,  8,  ...,  7, 11,  5],\n",
      "        [ 2,  3,  8,  ...,  5,  5,  5],\n",
      "        [ 2,  2, -1,  ...,  5, -3,  0]], device='cuda:0', dtype=torch.int8)\n"
     ]
    }
   ],
   "source": [
    "print(f\"first linear layer\")\n",
    "print(torch.int_repr(net_quantized.Linear1.weight()))"
   ]
  },
  {
   "cell_type": "code",
   "execution_count": 32,
   "id": "203c3b7f",
   "metadata": {},
   "outputs": [
    {
     "name": "stdout",
     "output_type": "stream",
     "text": [
      "Original Weights\n",
      "Parameter containing:\n",
      "tensor([[-0.0029,  0.0165, -0.0321,  ...,  0.0193,  0.0011, -0.0006],\n",
      "        [ 0.0196,  0.0244,  0.0290,  ...,  0.0191,  0.0334,  0.0095],\n",
      "        [ 0.0075,  0.0425, -0.0056,  ...,  0.0073,  0.0288,  0.0357],\n",
      "        ...,\n",
      "        [ 0.0838,  0.0876,  0.0529,  ...,  0.0476,  0.0668,  0.0299],\n",
      "        [ 0.0105,  0.0187,  0.0507,  ...,  0.0310,  0.0310,  0.0305],\n",
      "        [ 0.0149,  0.0096, -0.0046,  ...,  0.0318, -0.0175,  0.0027]],\n",
      "       device='cuda:0', requires_grad=True)\n",
      "\n",
      "Dequantized Weights\n",
      "tensor([[ 0.0000,  0.0191, -0.0318,  ...,  0.0191,  0.0000,  0.0000],\n",
      "        [ 0.0191,  0.0254,  0.0318,  ...,  0.0191,  0.0318,  0.0064],\n",
      "        [ 0.0064,  0.0445, -0.0064,  ...,  0.0064,  0.0318,  0.0381],\n",
      "        ...,\n",
      "        [ 0.0826,  0.0889,  0.0508,  ...,  0.0445,  0.0699,  0.0318],\n",
      "        [ 0.0127,  0.0191,  0.0508,  ...,  0.0318,  0.0318,  0.0318],\n",
      "        [ 0.0127,  0.0127, -0.0064,  ...,  0.0318, -0.0191,  0.0000]],\n",
      "       device='cuda:0')\n"
     ]
    }
   ],
   "source": [
    "print(f\"Original Weights\")\n",
    "print(net.Linear1.weight)\n",
    "print(f\"\")\n",
    "print(f\"Dequantized Weights\")\n",
    "print(torch.dequantize(net_quantized.Linear1.weight()))"
   ]
  },
  {
   "cell_type": "code",
   "execution_count": 34,
   "id": "0c48b228",
   "metadata": {},
   "outputs": [
    {
     "name": "stdout",
     "output_type": "stream",
     "text": [
      "size (KB) : 361.062\n",
      "size (KB) : 95.458\n"
     ]
    }
   ],
   "source": [
    "print_size_model(net)\n",
    "print_size_model(net_quantized)"
   ]
  },
  {
   "cell_type": "code",
   "execution_count": 38,
   "id": "a293b945",
   "metadata": {},
   "outputs": [
    {
     "name": "stderr",
     "output_type": "stream",
     "text": [
      "Testing: 100%|██████████| 1000/1000 [00:02<00:00, 387.63it/s]\n"
     ]
    },
    {
     "name": "stdout",
     "output_type": "stream",
     "text": [
      "Accuracy : 0.963\n"
     ]
    },
    {
     "name": "stderr",
     "output_type": "stream",
     "text": [
      "Testing: 100%|██████████| 1000/1000 [00:02<00:00, 340.00it/s]"
     ]
    },
    {
     "name": "stdout",
     "output_type": "stream",
     "text": [
      "Accuracy : 0.963\n"
     ]
    },
    {
     "name": "stderr",
     "output_type": "stream",
     "text": [
      "\n"
     ]
    }
   ],
   "source": [
    "## Accuracies \n",
    "test(net)\n",
    "test(net_quantized)"
   ]
  },
  {
   "cell_type": "code",
   "execution_count": null,
   "id": "6d948ea1",
   "metadata": {},
   "outputs": [],
   "source": []
  }
 ],
 "metadata": {
  "kernelspec": {
   "display_name": "Python 3",
   "language": "python",
   "name": "python3"
  },
  "language_info": {
   "codemirror_mode": {
    "name": "ipython",
    "version": 3
   },
   "file_extension": ".py",
   "mimetype": "text/x-python",
   "name": "python",
   "nbconvert_exporter": "python",
   "pygments_lexer": "ipython3",
   "version": "3.12.10"
  }
 },
 "nbformat": 4,
 "nbformat_minor": 5
}
