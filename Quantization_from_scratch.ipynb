{
 "cells": [
  {
   "cell_type": "code",
   "execution_count": 3,
   "id": "b138ce39",
   "metadata": {},
   "outputs": [
    {
     "name": "stdout",
     "output_type": "stream",
     "text": [
      "[164.11 -69.57   0.    40.16  35.85 -20.75 -68.57 163.11 -67.91  67.63\n",
      " -14.78 100.45   1.06 -55.9   84.01  35.39 141.49 144.9  -37.54 -52.9\n",
      " 120.07  83.55 -25.71  68.58 -18.64 -43.07 -20.31  16.62 -12.39  48.58]\n"
     ]
    }
   ],
   "source": [
    "import numpy as np \n",
    "\n",
    "np.set_printoptions(suppress=True)\n",
    "\n",
    "params = np.random.uniform(low=-70,high=170,size=30)\n",
    "\n",
    "## remarkable values first \n",
    "params[0] = params.max()+1\n",
    "params[1] = params.min()-1\n",
    "params[2] = 0 \n",
    "\n",
    "params = np.round(params,2)\n",
    "print(params)\n"
   ]
  },
  {
   "cell_type": "code",
   "execution_count": null,
   "id": "82774812",
   "metadata": {},
   "outputs": [],
   "source": [
    "def clamp(params_q:np.array,lower_bound:int,upper_bound:int) -> np.array:\n",
    "    params_q[params_q < lower_bound]=lower_bound\n",
    "    params_q[params_q < upper_bound]=upper_bound\n",
    "    return params_q\n",
    "\n",
    "def Asymmetric_quantization(params:np.array,bits:int) -> tuple[np.array,float,int] : \n",
    "    alpha = np.max(params)\n",
    "    beta = np.min(params)\n",
    "    scale  = (alpha - beta) / (2**bits -1)\n",
    "    zero = -1*np.round(beta/scale)\n",
    "    lower_bound , upper_bound = 0,2**bits-1\n",
    "    quantized = clamp(np.round(params/scale+zero) , lower_bound,upper_bound).astype(np.int32)\n",
    "    return quantized,scale,zero\n",
    "def Asymmetric_Dequantization(params_q:np.array,scale:float,zero:int)->np.array : \n",
    "    return scale*(params_q-zero)\n",
    "\n",
    "def Symmetric_quantization(params:np.array,bits:int) -> tuple[np.array,float,int] : \n",
    "    alpha = np.max(np.abs(params))\n",
    "    scale  = np.abs(alpha) / (2**(bits-1) -1)\n",
    "    lower_bound , upper_bound = -1*2**(bits-1)-1,2**(bits-1)-1\n",
    "    quantized = clamp(np.round(params/scale) , lower_bound,upper_bound).astype(np.int32)\n",
    "    return quantized,scale\n",
    "def Symmetric_Dequantization(params_q:np.array,scale:float)->np.array : \n",
    "    return scale*params_q\n",
    "\n",
    "def quant_error(params:np.array , params_q:np.array):\n",
    "    return np.mean((params - params_q)**2)\n"
   ]
  }
 ],
 "metadata": {
  "kernelspec": {
   "display_name": "Python 3",
   "language": "python",
   "name": "python3"
  },
  "language_info": {
   "codemirror_mode": {
    "name": "ipython",
    "version": 3
   },
   "file_extension": ".py",
   "mimetype": "text/x-python",
   "name": "python",
   "nbconvert_exporter": "python",
   "pygments_lexer": "ipython3",
   "version": "3.12.10"
  }
 },
 "nbformat": 4,
 "nbformat_minor": 5
}
