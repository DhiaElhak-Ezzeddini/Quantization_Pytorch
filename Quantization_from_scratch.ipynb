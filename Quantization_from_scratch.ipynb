{
 "cells": [
  {
   "cell_type": "code",
   "execution_count": 3,
   "id": "b138ce39",
   "metadata": {},
   "outputs": [
    {
     "name": "stdout",
     "output_type": "stream",
     "text": [
      "[164.11 -69.57   0.    40.16  35.85 -20.75 -68.57 163.11 -67.91  67.63\n",
      " -14.78 100.45   1.06 -55.9   84.01  35.39 141.49 144.9  -37.54 -52.9\n",
      " 120.07  83.55 -25.71  68.58 -18.64 -43.07 -20.31  16.62 -12.39  48.58]\n"
     ]
    }
   ],
   "source": [
    "import numpy as np \n",
    "\n",
    "np.set_printoptions(suppress=True)\n",
    "\n",
    "params = np.random.uniform(low=-70,high=170,size=30)\n",
    "\n",
    "## remarkable values first \n",
    "params[0] = params.max()+1\n",
    "params[1] = params.min()-1\n",
    "params[2] = 0 \n",
    "\n",
    "params = np.round(params,2)\n",
    "print(params)\n"
   ]
  },
  {
   "cell_type": "code",
   "execution_count": 9,
   "id": "82774812",
   "metadata": {},
   "outputs": [
    {
     "name": "stdout",
     "output_type": "stream",
     "text": [
      "Original : [164.11 -69.57   0.    40.16  35.85 -20.75 -68.57 163.11 -67.91  67.63\n",
      " -14.78 100.45   1.06 -55.9   84.01  35.39 141.49 144.9  -37.54 -52.9\n",
      " 120.07  83.55 -25.71  68.58 -18.64 -43.07 -20.31  16.62 -12.39  48.58]\n",
      "\n",
      "Asymmetric scale : 0.9163921568627451 , zero : 76.0\n",
      "[255   0  76 120 115  53   1 254   2 150  60 186  77  15 168 115 230 234\n",
      "  35  18 207 167  48 151  56  29  54  94  62 129]\n",
      "\n",
      "Symmetric scale : 1.292204724409449\n",
      "[127 -54   0  31  28 -16 -53 126 -53  52 -11  78   1 -43  65  27 109 112\n",
      " -29 -41  93  65 -20  53 -14 -33 -16  13 -10  38]\n"
     ]
    }
   ],
   "source": [
    "def clamp(params_q:np.array,lower_bound:int,upper_bound:int) -> np.array:\n",
    "    params_q[params_q < lower_bound]=lower_bound\n",
    "    params_q[params_q > upper_bound]=upper_bound\n",
    "    return params_q\n",
    "\n",
    "def Asymmetric_quantization(params:np.array,bits:int) -> tuple[np.array,float,int] : \n",
    "    alpha = np.max(params)\n",
    "    beta = np.min(params)\n",
    "    scale  = (alpha - beta) / (2**bits -1)\n",
    "    zero = -1*np.round(beta/scale)\n",
    "    lower_bound , upper_bound = 0,2**bits-1\n",
    "    quantized = clamp(np.round(params/scale+zero) , lower_bound,upper_bound).astype(np.int32)\n",
    "    return quantized,scale,zero\n",
    "def Asymmetric_Dequantization(params_q:np.array,scale:float,zero:int)->np.array : \n",
    "    return scale*(params_q-zero)\n",
    "\n",
    "def Symmetric_quantization(params:np.array,bits:int) -> tuple[np.array,float,int] : \n",
    "    alpha = np.max(np.abs(params))\n",
    "    scale  = np.abs(alpha) / (2**(bits-1) -1)\n",
    "    lower_bound , upper_bound = -1*2**(bits-1)-1,2**(bits-1)-1\n",
    "    quantized = clamp(np.round(params/scale) , lower_bound,upper_bound).astype(np.int32)\n",
    "    return quantized,scale\n",
    "def Symmetric_Dequantization(params_q:np.array,scale:float)->np.array : \n",
    "    return scale*params_q\n",
    "\n",
    "def quant_error(params:np.array , params_q:np.array):\n",
    "    return np.mean((params - params_q)**2)\n",
    "\n",
    "(asymmetric_q,asymmetric_scale,asymmetric_zero) = Asymmetric_quantization(params,8)\n",
    "(symmetric_q,symmetric_scale) = Symmetric_quantization(params,8)    \n",
    "\n",
    "print(f\"Original : {np.round(params,2)}\")\n",
    "print(f\"\")\n",
    "print(f\"Asymmetric scale : {asymmetric_scale} , zero : {asymmetric_zero}\")\n",
    "print(asymmetric_q)\n",
    "print(f\"\")\n",
    "print(f\"Symmetric scale : {symmetric_scale}\")\n",
    "print(symmetric_q)\n"
   ]
  },
  {
   "cell_type": "code",
   "execution_count": 14,
   "id": "579ff236",
   "metadata": {},
   "outputs": [
    {
     "name": "stdout",
     "output_type": "stream",
     "text": [
      "Asymmetric Dequantization : [164.03 -69.65   0.    40.32  35.74 -21.08 -68.73 163.12 -67.81  67.81\n",
      " -14.66 100.8    0.92 -55.9   84.31  35.74 141.12 144.79 -37.57 -53.15\n",
      " 120.05  83.39 -25.66  68.73 -18.33 -43.07 -20.16  16.5  -12.83  48.57]\n",
      "\n",
      "Symmetric Dequantization : [164.11 -69.78   0.    40.06  36.18 -20.68 -68.49 162.82 -68.49  67.19\n",
      " -14.21 100.79   1.29 -55.56  83.99  34.89 140.85 144.73 -37.47 -52.98\n",
      " 120.18  83.99 -25.84  68.49 -18.09 -42.64 -20.68  16.8  -12.92  49.1 ]\n"
     ]
    }
   ],
   "source": [
    "print(f\"Asymmetric Dequantization : {np.round(Asymmetric_Dequantization(asymmetric_q,asymmetric_scale,asymmetric_zero),2)}\")\n",
    "print(f\"\")\n",
    "print(f\"Symmetric Dequantization : {np.round(Symmetric_Dequantization(symmetric_q,symmetric_scale),2)}\")"
   ]
  },
  {
   "cell_type": "code",
   "execution_count": 16,
   "id": "e9b35b87",
   "metadata": {},
   "outputs": [
    {
     "name": "stdout",
     "output_type": "stream",
     "text": [
      "Asymmetric Error : 0.039553333333333704\n",
      "\n",
      "Symmetric Error : 0.11787666666666788\n"
     ]
    }
   ],
   "source": [
    "print(f\"Asymmetric Error : {quant_error(params,np.round(Asymmetric_Dequantization(asymmetric_q,asymmetric_scale,asymmetric_zero),2))}\")\n",
    "print(f\"\")\n",
    "print(f\"Symmetric Error : {quant_error(params,np.round(Symmetric_Dequantization(symmetric_q,symmetric_scale),2))}\")"
   ]
  },
  {
   "cell_type": "code",
   "execution_count": 57,
   "id": "aa101e2e",
   "metadata": {},
   "outputs": [
    {
     "name": "stdout",
     "output_type": "stream",
     "text": [
      "[ 131.61  123.37  130.12 ...   47.72   38.83 1000.  ]\n"
     ]
    }
   ],
   "source": [
    "params_2 = np.random.uniform(low=-70,high=170,size=20000)\n",
    "\n",
    "params_2[-1] = 1000 ## outlier\n",
    "\n",
    "params_2 = np.round(params_2,2)\n",
    "print(params_2)"
   ]
  },
  {
   "cell_type": "code",
   "execution_count": 58,
   "id": "5c694e7e",
   "metadata": {},
   "outputs": [],
   "source": [
    "def Asymmetric_quantization_percentile(params:np.array,bits:int,percentile:float=99.99) -> tuple[np.array,float,int]:\n",
    "    alpha = np.percentile(params,percentile)\n",
    "    beta = np.percentile(params,100-percentile)\n",
    "    scale = (alpha - beta)/(2**bits-1)\n",
    "    zero = -1*np.round(beta/scale)\n",
    "    lower_bound , upper_bound = 0,2**bits-1\n",
    "    quantized = clamp(np.round(params/scale+zero) , lower_bound,upper_bound).astype(np.int32)\n",
    "    return quantized,scale,zero\n",
    "    "
   ]
  },
  {
   "cell_type": "code",
   "execution_count": 59,
   "id": "22820d89",
   "metadata": {},
   "outputs": [
    {
     "name": "stdout",
     "output_type": "stream",
     "text": [
      "Original : [ 131.61  123.37  130.12 ...   47.72   38.83 1000.  ]\n",
      "\n",
      "Asymmetric scale : 4.196078431372549 , zero : 17.0\n",
      "[ 48  46  48 ...  28  26 255]\n"
     ]
    }
   ],
   "source": [
    "(asymmetric_q,asymmetric_scale,asymmetric_zero) = Asymmetric_quantization(params_2,8)\n",
    "print(f\"Original : {np.round(params_2,2)}\")\n",
    "print(f\"\")\n",
    "print(f\"Asymmetric scale : {asymmetric_scale} , zero : {asymmetric_zero}\")\n",
    "print(asymmetric_q)"
   ]
  },
  {
   "cell_type": "code",
   "execution_count": 60,
   "id": "0ab670ce",
   "metadata": {},
   "outputs": [
    {
     "name": "stdout",
     "output_type": "stream",
     "text": [
      "Original : [ 131.61  123.37  130.12 ...   47.72   38.83 1000.  ]\n",
      "\n",
      "Asymmetric Percentile scale : 0.9410980392156864 , Percentile zero : 74.0\n",
      "[214 205 212 ... 125 115 255]\n"
     ]
    }
   ],
   "source": [
    "(asymmetric_q_percentile,asymmetric_scale_percentile,asymmetric_zero_percentile) = Asymmetric_quantization_percentile(params_2,8)\n",
    "print(f\"Original : {np.round(params_2,2)}\")\n",
    "print(f\"\")\n",
    "print(f\"Asymmetric Percentile scale : {asymmetric_scale_percentile} , Percentile zero : {asymmetric_zero_percentile}\")\n",
    "print(asymmetric_q_percentile)"
   ]
  },
  {
   "cell_type": "code",
   "execution_count": 62,
   "id": "4468b634",
   "metadata": {},
   "outputs": [
    {
     "name": "stdout",
     "output_type": "stream",
     "text": [
      "Asymmetric Error : 1.47\n",
      "Asymmetric Percentile Error : 0.07\n"
     ]
    }
   ],
   "source": [
    "print(f\"Asymmetric Error : {np.round(quant_error(params_2[:-1],(Asymmetric_Dequantization(asymmetric_q,asymmetric_scale,asymmetric_zero))[:-1]),2)}\")\n",
    "print(f\"Asymmetric Percentile Error : {np.round(quant_error(params_2[:-1],(Asymmetric_Dequantization(asymmetric_q_percentile,asymmetric_scale_percentile,asymmetric_zero_percentile))[:-1]),2)}\")"
   ]
  },
  {
   "cell_type": "code",
   "execution_count": null,
   "id": "91b18526",
   "metadata": {},
   "outputs": [],
   "source": []
  }
 ],
 "metadata": {
  "kernelspec": {
   "display_name": "Python 3",
   "language": "python",
   "name": "python3"
  },
  "language_info": {
   "codemirror_mode": {
    "name": "ipython",
    "version": 3
   },
   "file_extension": ".py",
   "mimetype": "text/x-python",
   "name": "python",
   "nbconvert_exporter": "python",
   "pygments_lexer": "ipython3",
   "version": "3.12.10"
  }
 },
 "nbformat": 4,
 "nbformat_minor": 5
}
