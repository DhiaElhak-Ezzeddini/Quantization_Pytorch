{
 "cells": [
  {
   "cell_type": "code",
   "execution_count": 14,
   "id": "d7af8cbd",
   "metadata": {},
   "outputs": [
    {
     "name": "stdout",
     "output_type": "stream",
     "text": [
      "Result: 3.5053699999999997\n",
      "Time taken: 0.0000421000 seconds\n"
     ]
    }
   ],
   "source": [
    "import time\n",
    "\n",
    "# Record the start time\n",
    "start_time = time.perf_counter()\n",
    "\n",
    "# Perform the operation\n",
    "result = 1.21 * 2.897\n",
    "\n",
    "# Record the end time\n",
    "end_time = time.perf_counter()\n",
    "\n",
    "# Calculate the elapsed time\n",
    "elapsed_time = end_time - start_time\n",
    "\n",
    "print(f\"Result: {result}\")\n",
    "print(f\"Time taken: {elapsed_time:.10f} seconds\")"
   ]
  },
  {
   "cell_type": "code",
   "execution_count": 17,
   "id": "7c33d7b1",
   "metadata": {},
   "outputs": [
    {
     "name": "stdout",
     "output_type": "stream",
     "text": [
      "Result: 18\n",
      "Time taken: 0.0000270000 seconds\n"
     ]
    }
   ],
   "source": [
    "import time\n",
    "\n",
    "# Record the start time\n",
    "start_time = time.perf_counter()\n",
    "\n",
    "# Perform the operation\n",
    "result = 3 * 6\n",
    "\n",
    "# Record the end time\n",
    "end_time = time.perf_counter()\n",
    "\n",
    "# Calculate the elapsed time\n",
    "elapsed_time = end_time - start_time\n",
    "\n",
    "print(f\"Result: {result}\")\n",
    "print(f\"Time taken: {elapsed_time:.10f} seconds\")"
   ]
  }
 ],
 "metadata": {
  "kernelspec": {
   "display_name": "Python 3",
   "language": "python",
   "name": "python3"
  },
  "language_info": {
   "codemirror_mode": {
    "name": "ipython",
    "version": 3
   },
   "file_extension": ".py",
   "mimetype": "text/x-python",
   "name": "python",
   "nbconvert_exporter": "python",
   "pygments_lexer": "ipython3",
   "version": "3.12.10"
  }
 },
 "nbformat": 4,
 "nbformat_minor": 5
}
